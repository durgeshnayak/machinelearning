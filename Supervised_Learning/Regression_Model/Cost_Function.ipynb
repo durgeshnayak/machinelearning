{
 "cells": [
  {
   "cell_type": "markdown",
   "source": [
    "Imports and configuration"
   ],
   "metadata": {
    "collapsed": false
   },
   "id": "be28129bbf681819"
  },
  {
   "cell_type": "code",
   "outputs": [],
   "source": [
    "import numpy as np\n",
    "%matplotlib widget\n",
    "import matplotlib.pyplot as plt\n",
    "from lab_utils_uni import plt_intuition, plt_stationary, plt_update_onclick, soup_bowl\n",
    "plt.style.use('./deeplearning.mplstyle')"
   ],
   "metadata": {
    "collapsed": true
   },
   "id": "initial_id",
   "execution_count": null
  },
  {
   "cell_type": "code",
   "outputs": [],
   "source": [
    "x_train = np.array([1.0, 2.0])\n",
    "y_train = np.array([300.0, 500.0])"
   ],
   "metadata": {
    "collapsed": false
   },
   "id": "bfff2323cb6cf829"
  },
  {
   "cell_type": "code",
   "outputs": [],
   "source": [
    "def compute_cost(x, y, w, b):\n",
    "    \"\"\"\n",
    "    Computes the cost function for linear regression.\n",
    "    :param x: (ndarray (m,)): Data, m examples \n",
    "    :param y: (ndarray (m,)): Target values\n",
    "    :param w: (scalar): model parameter - weight\n",
    "    :param b: (scalar): model parameter - bias\n",
    "    :return: total_cost(float): The cost of using w,b as the parameters for linear regression to fit the data points in x and y\n",
    "    \"\"\"\n",
    "    # number of training examples\n",
    "    m = x.shape[0]\n",
    "    \n",
    "    cost_sum = 0\n",
    "    for i in range(m):\n",
    "        fw_b = w * x[i] + b\n",
    "        cost = (fw_b - y[i]) ** 2\n",
    "        cost_sum += cost\n",
    "        \n",
    "    total_cost = (1 / (2 * m)) * cost_sum\n",
    "    return  total_cost"
   ],
   "metadata": {
    "collapsed": false
   },
   "id": "28f1e432f1c6a939"
  },
  {
   "cell_type": "code",
   "outputs": [],
   "source": [
    "plt_intuition(x_train, y_train)"
   ],
   "metadata": {
    "collapsed": false
   },
   "id": "181d0f1d39081906"
  },
  {
   "cell_type": "code",
   "outputs": [],
   "source": [
    "x_train = np.array([1.0, 1.7, 2.0, 2.5, 3.0, 3.2])\n",
    "y_train = np.array([250, 300, 480,  430,   630, 730,])"
   ],
   "metadata": {
    "collapsed": false
   },
   "id": "dfc62a6d181b3a60"
  },
  {
   "cell_type": "code",
   "outputs": [],
   "source": [
    "plt.close('all') \n",
    "fig, ax, dyn_items = plt_stationary(x_train, y_train)\n",
    "updater = plt_update_onclick(fig, ax, x_train, y_train, dyn_items)"
   ],
   "metadata": {
    "collapsed": false
   },
   "id": "587a550ed4246c57"
  },
  {
   "cell_type": "code",
   "outputs": [],
   "source": [
    "soup_bowl()"
   ],
   "metadata": {
    "collapsed": false
   },
   "id": "d9103684ee6d2665"
  }
 ],
 "metadata": {
  "kernelspec": {
   "display_name": "Python 3",
   "language": "python",
   "name": "python3"
  },
  "language_info": {
   "codemirror_mode": {
    "name": "ipython",
    "version": 2
   },
   "file_extension": ".py",
   "mimetype": "text/x-python",
   "name": "python",
   "nbconvert_exporter": "python",
   "pygments_lexer": "ipython2",
   "version": "2.7.6"
  }
 },
 "nbformat": 4,
 "nbformat_minor": 5
}
