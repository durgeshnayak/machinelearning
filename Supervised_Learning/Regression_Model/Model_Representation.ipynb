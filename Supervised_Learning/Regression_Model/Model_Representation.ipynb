{
 "cells": [
  {
   "cell_type": "markdown",
   "source": [
    "Imports and configuration setting..."
   ],
   "metadata": {
    "collapsed": false
   },
   "id": "a960ee7cba2dc6f0"
  },
  {
   "cell_type": "code",
   "outputs": [],
   "source": [
    "import numpy as np\n",
    "import matplotlib.pyplot as plt\n",
    "\n",
    "plt.style.use('./deeplearning.mplstyle')"
   ],
   "metadata": {
    "collapsed": false
   },
   "id": "79ffc281446bf209",
   "execution_count": null
  },
  {
   "cell_type": "code",
   "outputs": [],
   "source": [
    "# x_train is the input variable or feature (size of the house in 1000 square feet)\n",
    "# y_train is the target variable (price of the house in 1000s of dollars)\n",
    "x_train = np.array([1.0, 2.0])\n",
    "y_train = np.array([300.0, 500.0])\n",
    "print(f'x_train = {x_train}')\n",
    "print(f'y_train = {y_train}')"
   ],
   "metadata": {
    "collapsed": false
   },
   "id": "36e3b862481506f1",
   "execution_count": null
  },
  {
   "cell_type": "code",
   "outputs": [],
   "source": [
    "# m is the number of training examples\n",
    "print(f'x_train.shape: {x_train.shape}')\n",
    "m = x_train.shape[0]\n",
    "print(f'Number of training examples: {m}')"
   ],
   "metadata": {
    "collapsed": false
   },
   "id": "7e5d51583d1eada2",
   "execution_count": null
  },
  {
   "cell_type": "code",
   "outputs": [],
   "source": [
    "# m is the number of training examples\n",
    "m = len(x_train)\n",
    "print(f'Number of training examples: {m}')"
   ],
   "metadata": {
    "collapsed": false
   },
   "id": "17ba18cd09858c4e",
   "execution_count": null
  },
  {
   "cell_type": "code",
   "outputs": [],
   "source": [
    "i = 0 # Change this to 1 to see the second training example\n",
    "x_i = x_train[i]\n",
    "y_i = y_train[i]\n",
    "print(f'(x^({i})), (y^({i})) = ({x_i}, {y_i})')"
   ],
   "metadata": {
    "collapsed": false
   },
   "id": "a6da7e56dacf883b",
   "execution_count": null
  },
  {
   "cell_type": "code",
   "outputs": [],
   "source": [
    "# Plot the data points\n",
    "plt.scatter(x_train, y_train, marker='x', c='r')\n",
    "# Set the title\n",
    "plt.title('Housing Prices')\n",
    "# Set the y-axis label\n",
    "plt.ylabel('Price (in 1000s of dollars)')\n",
    "# Set the x-axis label\n",
    "plt.xlabel('Size (1000 sqft)')\n",
    "plt.show()"
   ],
   "metadata": {
    "collapsed": false
   },
   "id": "8ad68afa9e30a4e2",
   "execution_count": null
  },
  {
   "cell_type": "code",
   "outputs": [],
   "source": [
    "w = 200\n",
    "b = 100\n",
    "print(f'w = {w}')\n",
    "print(f'b = {b}')"
   ],
   "metadata": {
    "collapsed": false
   },
   "id": "24bd0fd4a9ecb941",
   "execution_count": null
  },
  {
   "cell_type": "code",
   "outputs": [],
   "source": [
    "def compute_model_output(x, w, b):\n",
    "    \"\"\"\n",
    "    Computes the prediction of a linear model\n",
    "    Args:\n",
    "      x (ndarray (m,)): Data, m examples \n",
    "      w,b (scalar)    : model parameters  \n",
    "    Returns\n",
    "      f_wb (ndarray (m,)): model prediction\n",
    "    \"\"\"\n",
    "    m = x.shape[0]\n",
    "    f_wb = np.zeros(m)\n",
    "    for i in range(m):\n",
    "        f_wb[i] = w * x[i] + b\n",
    "        \n",
    "    return f_wb"
   ],
   "metadata": {
    "collapsed": false
   },
   "id": "fd78c3c629344f6f",
   "execution_count": null
  },
  {
   "cell_type": "code",
   "outputs": [],
   "source": [
    "tmp_f_wb = compute_model_output(x_train, w, b)\n",
    "\n",
    "# Plot our model prediction\n",
    "plt.plot(x_train, tmp_f_wb, c='b', label='Our Prediction')\n",
    "\n",
    "# Plot the data points\n",
    "plt.scatter(x_train, y_train, marker='x', c='r', label='Actual Values')\n",
    "\n",
    "# Set the title\n",
    "plt.title('Housing Prices')\n",
    "\n",
    "# Set the y-axis label\n",
    "plt.ylabel('Price (in 1000s of dollars)')\n",
    "# Set the x-axis label\n",
    "plt.xlabel('Size (1000 sqft)')\n",
    "plt.legend()\n",
    "plt.show()"
   ],
   "metadata": {
    "collapsed": false
   },
   "id": "6c560303969766ea",
   "execution_count": null
  },
  {
   "cell_type": "code",
   "outputs": [],
   "source": [
    "w = 200                         \n",
    "b = 100    \n",
    "x_i = 1.2\n",
    "cost_1200 = w * x_i + b    \n",
    "\n",
    "print(f\"${cost_1200:.0f} thousand dollars\")\n",
    "# Plot our model prediction\n",
    "plt.plot(x_train, tmp_f_wb, c='b', label='Our Prediction')\n",
    "\n",
    "# Plot the data points\n",
    "plt.scatter(x_train, y_train, marker='x', c='r', label='Actual Values')\n",
    "\n",
    "# Set the title\n",
    "plt.title('Housing Prices')\n",
    "\n",
    "# Set the y-axis label\n",
    "plt.ylabel('Price (in 1000s of dollars)')\n",
    "# Set the x-axis label\n",
    "plt.xlabel('Size (1000 sqft)')\n",
    "plt.legend()\n",
    "\n",
    "# Plot our predicted price\n",
    "plt.scatter(x_i, cost_1200, c='y', marker='x')\n",
    "plt.show()"
   ],
   "metadata": {
    "collapsed": false
   },
   "id": "8bb9ae94e7729fcd",
   "execution_count": null
  }
 ],
 "metadata": {
  "kernelspec": {
   "display_name": "Python 3",
   "language": "python",
   "name": "python3"
  },
  "language_info": {
   "codemirror_mode": {
    "name": "ipython",
    "version": 2
   },
   "file_extension": ".py",
   "mimetype": "text/x-python",
   "name": "python",
   "nbconvert_exporter": "python",
   "pygments_lexer": "ipython2",
   "version": "2.7.6"
  }
 },
 "nbformat": 4,
 "nbformat_minor": 5
}
